{
 "cells": [
  {
   "attachments": {},
   "cell_type": "markdown",
   "id": "1d077f98-2b48-4624-890f-bbcde75b50f8",
   "metadata": {},
   "source": [
    "# Speed of computation\n",
    "\n",
    "Python, being an interpreted language, tends to be slower than compiled languages like C or Fortran.  Some other languages like Java and Julia tend to use Just-in-Time compilation which can give speedups, but Python also has the problem of being dynamically typed, which eliminates the possibility of many optimizations.\n",
    "\n",
    "The `timeit` library provides functions to estimate the time taken to run a piece of code.  It can automatically run the code multiple times to get better average results, and can be used to identify bottlenecks in your program.  However, it should be used with care as it is not a detailed function-call-level profiler.\n",
    "\n",
    "It can either be `import`ed as a module where you can then explicitly called `timeit.timeit(func)` to estimate time for a function, or you can use the *magic syntax* in Python notebooks as shown below.  "
   ]
  },
  {
   "cell_type": "markdown",
   "id": "58b588ff-6005-4a1e-9329-9189134b7653",
   "metadata": {},
   "source": [
    "import numpy as np\n",
    "x = np.random.rand(10000,1)"
   ]
  },
  {
   "cell_type": "code",
   "execution_count": null,
   "id": "63c29c38-213f-439e-a7a4-1bc71a6a147b",
   "metadata": {},
   "outputs": [],
   "source": [
    "def sumarr(x):\n",
    "    sum = 0\n",
    "    for i in range(len(x)): \n",
    "    # for i in x:\n",
    "        sum += x[i]\n",
    "    return sum\n",
    "x= [10,20,30,40]\n",
    "print(sumarr(x))\n",
    "%timeit sumarr(x)"
   ]
  },
  {
   "cell_type": "code",
   "execution_count": null,
   "id": "3685cabc-ea32-40cf-923d-efacf040bba1",
   "metadata": {},
   "outputs": [],
   "source": [
    "import numpy as np\n",
    "def npsumarr(x):\n",
    "    return np.sum(x)\n",
    "print(npsumarr(x))\n",
    "%timeit npsumarr(x)"
   ]
  },
  {
   "cell_type": "markdown",
   "id": "45165b44-8c0e-43ca-a3bb-c1da937c5919",
   "metadata": {},
   "source": [
    "# Solving equations by Gaussian elimination\n",
    "\n",
    "Once you have constructed two matrices A and B to represent the system of linear equations \n",
    "$$ Ax = b $$\n",
    "you can then proceed to solve the equations using the process known as Gaussian elimination.\n",
    "\n",
    "It is assumed you already know how the process works, but to refresh your memory, you could use the reference material at [LibreTexts](https://math.libretexts.org/Bookshelves/Algebra/Book%3A_Algebra_and_Trigonometry_(OpenStax)/11%3A_Systems_of_Equations_and_Inequalities/11.06%3A_Solving_Systems_with_Gaussian_Elimination).\n",
    "\n",
    "Basically it involves making the A matrix *triangular* and ultimately into the shape of an identity matrix."
   ]
  },
  {
   "cell_type": "code",
   "execution_count": null,
   "id": "2985880d-bf0b-465c-85e6-2b9aa2e036ad",
   "metadata": {},
   "outputs": [],
   "source": [
    "# Input matrices - the set of equations - 2 variables x1 and x2\n",
    "A = [ [2,3], [1,-1] ]\n",
    "B = [6,1/2]\n",
    "print(A)\n",
    "print(B)"
   ]
  },
  {
   "cell_type": "code",
   "execution_count": null,
   "id": "57c201b5-1d27-4bfb-9f65-1075568463b3",
   "metadata": {},
   "outputs": [],
   "source": [
    "# Normalize row 1\n",
    "norm = A[0][0]\n",
    "for i in range(len(A[0])): A[0][i] /= norm\n",
    "B[0] = B[0]/norm\n",
    "print(A)\n",
    "print(B)"
   ]
  },
  {
   "cell_type": "code",
   "execution_count": null,
   "id": "02eec543-407f-43ba-b59a-1a9abe46942c",
   "metadata": {},
   "outputs": [],
   "source": [
    "# Eliminate row 2 - A[1] - need to check and ensure div-by-zero etc doesnt happen\n",
    "norm = A[1][0] / A[0][0]\n",
    "for i in range(len(A[1])): A[1][i] = A[1][i] - A[0][i] * norm\n",
    "B[1] = B[1] - B[0] * norm\n",
    "print(A)\n",
    "print(B)"
   ]
  },
  {
   "cell_type": "code",
   "execution_count": null,
   "id": "e6d17637-4f8d-4b50-b051-f3f95520d5b9",
   "metadata": {},
   "outputs": [],
   "source": [
    "# Normalize row 2 - B[1] will now contain the solution for x2\n",
    "norm = A[1][1]\n",
    "for i in range(len(A[1])): A[1][i] = A[1][i] / norm\n",
    "B[1] = B[1] / norm\n",
    "print(A)\n",
    "print(B)"
   ]
  },
  {
   "cell_type": "code",
   "execution_count": null,
   "id": "eae41cdb-dde7-48c4-a93a-3dfa9a9dd3a0",
   "metadata": {},
   "outputs": [],
   "source": [
    "# Sub back and solve for B[0] <-> x1\n",
    "# This can be seen as eliminating A[0][1]\n",
    "norm = A[0][1] / A[0][0]\n",
    "# note that len(A) will give number of rows\n",
    "for i in range(len(A)): \n",
    "    A[i][1] = A[i][1] - A[i][0] * norm\n",
    "    B[i] = B[i] - A[i][0] * norm\n",
    "print(A)\n",
    "print(B)"
   ]
  },
  {
   "cell_type": "markdown",
   "id": "098cf3af-1055-4131-b7e3-68ee9637939f",
   "metadata": {
    "tags": []
   },
   "source": [
    "## Problems with Gaussian elimination\n",
    "\n",
    "There are several obvious problems with the method outlined here.  These include:\n",
    "\n",
    "- Performance - Python lists are not the most efficient way to store matrices\n",
    "- Zeros: the simple example does not consider a scenario where one of the values on the diagonal may be 0.  Then some shuffling of rows is required.\n",
    "- Numerical stability: there are several *normalization* steps involved, where it is quite possible for the values to blow up out of control if not managed properly.  Usually some kind of pivoting techniques are used to get around these issues."
   ]
  },
  {
   "cell_type": "code",
   "execution_count": null,
   "id": "2888f5f6-0d58-4252-b15a-cb240ca98c07",
   "metadata": {},
   "outputs": [],
   "source": [
    "import numpy as np\n",
    "A1 = np.array( [ [2,3], [1,-1] ] )\n",
    "B1 = np.array( [6, 1/2] )\n",
    "np.linalg.solve(A1, B1)"
   ]
  },
  {
   "attachments": {},
   "cell_type": "markdown",
   "id": "140f68a1-0072-4fe3-9dd4-1c946e93b8b5",
   "metadata": {},
   "source": [
    "# SPICE basics\n",
    "\n",
    "Our goal is to implement a SPICE simulator.  In order to do this, we first need to read in the circuit description from a text file.  To start with, we will only consider the basic elements of SPICE: Voltage sources, Current sources, and Resistors.  A typical SPICE netlist would look like this:\n",
    "\n",
    "```spice\n",
    ".circuit\n",
    "R1 GND 1 1  \n",
    "R2 1 2 1    \n",
    "V1 GND 2 dc 2\n",
    ".end\n",
    "```\n",
    "\n",
    "This is basically a *netlist* with 3 *nodes* - one of which is Ground (GND) which is assumed to be have a voltage of 0V.  We can write down Kirchhoff's current law (KCL) equations at each node, to account for current balance.  In addition, we will have some equations that specify the voltages between nodes having a direct voltage source, since there is no resistance there to provide an equation.\n",
    "\n",
    "For the above example, the equations will be\n",
    "\n",
    "$$\n",
    "\\begin{aligned}\n",
    "\\frac{V1-0}{R1} & + & \\frac{V1-V2}{R2} & = & 0 \\\\\n",
    "\\frac{V2-V1}{R2} & + & I1 & = & 0 \\\\\n",
    "V2 & - & 0 & = & 2\n",
    "\\end{aligned}\n",
    "$$\n",
    "\n",
    "which can be written in Matrix form as:\n",
    "\n",
    "$$\n",
    "\\begin{bmatrix}\n",
    "\\frac{1}{R1}+\\frac{1}{R2} & \\frac{-1}{R2} & 0 \\\\\n",
    "\\frac{-1}{R2}   & \\frac{1}{R2}  & 1 \\\\\n",
    "0  & 1  & 0\n",
    "\\end{bmatrix}\n",
    "\\begin{bmatrix}\n",
    "V1 \\\\\n",
    "V2 \\\\\n",
    "I1\n",
    "\\end{bmatrix}\n",
    "=\n",
    "\\begin{bmatrix}\n",
    "0 \\\\\n",
    "0 \\\\\n",
    "2\n",
    "\\end{bmatrix}\n",
    "$$\n",
    "\n",
    "At this point, you have reduced the solving of the SPICE equations to a known problem (linear equation solving) that you already know how to do."
   ]
  },
  {
   "attachments": {},
   "cell_type": "markdown",
   "id": "10067a6c",
   "metadata": {},
   "source": [
    "## AC sources\n",
    "\n",
    "The assumption above is that the system consists only of Voltage or Current sources and resistors.  What about capacitors, inductors, and AC sources?  These can be handled in exactly the same way as long as the circuit is operating at a single frequency.  We then replace the elements with their corresponding *impedance* values, which are frequency dependent complex numbers, but since there is only a single frequency they will still be constants."
   ]
  },
  {
   "attachments": {},
   "cell_type": "markdown",
   "id": "1485d399",
   "metadata": {},
   "source": [
    "## Problem scenarios\n",
    "\n",
    "- Voltage source loops\n",
    "- Current sources at a node\n",
    "- Circuit defined with both DC and AC sources\n",
    "- Syntax errors"
   ]
  },
  {
   "attachments": {},
   "cell_type": "markdown",
   "id": "6d214d59",
   "metadata": {},
   "source": [
    "# String and File manipulation\n",
    "\n",
    "Given a SPICE netlist like the one above, you need to *read* it and construct an internal matrix as described above.  For string manipulation, there are a few helpful utility functions that we can see here."
   ]
  },
  {
   "cell_type": "code",
   "execution_count": null,
   "id": "0d0f9ed2",
   "metadata": {},
   "outputs": [],
   "source": [
    "circ = \"\"\".circuit\n",
    "R1 GND 1 1  \n",
    "R2 1 2 1    \n",
    "V1 GND 2 dc 2\n",
    ".end\n",
    "\"\"\".splitlines()\n",
    "\n",
    "for l in circ:\n",
    "    if l[0] == 'R':\n",
    "        print(\"Found a resistor\")\n",
    "    elif l[0] == 'V':\n",
    "        print(\"Found a voltage source with value: \", l.split()[4])"
   ]
  },
  {
   "attachments": {},
   "cell_type": "markdown",
   "id": "18d4c59c",
   "metadata": {},
   "source": [
    "## Files\n",
    "\n",
    "You can read from a file using the `readlines()` method of file objects.  One thing to keep in mind is how you open and close file objects.  In particular, it is strongly recommended to use the pattern `with open(\"filename\") as f:` to ensure that the file is closed once you are done with reading it.  "
   ]
  },
  {
   "cell_type": "code",
   "execution_count": null,
   "id": "b79e4e66",
   "metadata": {},
   "outputs": [],
   "source": [
    "import numpy as np\n",
    "def factorial(N):\n",
    "    if N<0: return \"Factorial doesn't exist\"\n",
    "    elif N==0: return \"1\"\n",
    "    else: \n",
    "        mul = 1\n",
    "        for i in range(1,N+1):\n",
    "            mul=np.multiply(i,mul)\n",
    "        return mul\n",
    "print(factorial(5))\n",
    "%timeit factorial(N)"
   ]
  },
  {
   "attachments": {},
   "cell_type": "markdown",
   "id": "3a33baef",
   "metadata": {},
   "source": [
    "# Factorial \n",
    "- The function calculates the factorial using a for loop, where mul is the running product and np.multiply is used to multiply i and mul at each iteration.\n",
    "- The %timeit magic command is used to evaluate the execution time of the function."
   ]
  },
  {
   "cell_type": "code",
   "execution_count": 121,
   "id": "55b5b997",
   "metadata": {},
   "outputs": [],
   "source": [
    "def uppertriangle(A,B):\n",
    "    try:\n",
    "        for i in range(len(A)):       \n",
    "            if i == N-1 and A[i][i] !=0:  \n",
    "                B[i] = B[i]/A[i][i] \n",
    "                A[i][i] = A[i][i]/A[i][i]   \n",
    "            else:\n",
    "                if A[i][i] == 0:\n",
    "                    for p in range(i+1,len(A)):\n",
    "                        if A[p][i] !=0:\n",
    "                            A[i],A[p] = A[p],A[i]\n",
    "                            B[i],B[p]=B[p],B[i]\n",
    "                            break        \n",
    "                norm = A[i][i]\n",
    "                B[i] = B[i]/norm  \n",
    "                for j in range(i+1,N):\n",
    "                    norm1 = A[j][i]\n",
    "                    B[j]=B[j]-(B[i])*norm1\n",
    "                    for k in range(len(A[i])):     \n",
    "                        A[i][k] = A[i][k]/norm    \n",
    "                        A[j][k] = A[j][k] - (A[i][k]) * norm1 \n",
    "                    norm = A[i][i] \n",
    "        return A,B; \n",
    "    except ZeroDivisionError:\n",
    "        print(\"The system of linear equations are inconsistent\")"
   ]
  },
  {
   "cell_type": "code",
   "execution_count": 122,
   "id": "eaf3d5db",
   "metadata": {},
   "outputs": [],
   "source": [
    "def lowertriangle(A,B):\n",
    "    try :\n",
    "        uppertriangle(A,B)\n",
    "        for a in range(len(A[0]),0,-1):  \n",
    "            for b in range(a-1,0,-1):\n",
    "                norm2 = A[b-1][a-1]/A[a-1][a-1]\n",
    "                A[b-1][a-1] = A[b-1][a-1] - norm2\n",
    "                B[b-1] = B[b-1] - B[a-1]*norm2         \n",
    "        return A,B; \n",
    "    except ZeroDivisionError:\n",
    "        print(\"The system of linear equations are -inconsistent\")"
   ]
  },
  {
   "cell_type": "code",
   "execution_count": 123,
   "id": "343b5548",
   "metadata": {},
   "outputs": [],
   "source": [
    "def lnreq_sol(A,B):\n",
    "    lowertriangle(A,B)\n",
    "    return(A,B);"
   ]
  },
  {
   "cell_type": "code",
   "execution_count": null,
   "id": "647b8b9f",
   "metadata": {},
   "outputs": [],
   "source": [
    "try:\n",
    "    N=input(\"No of rows=\")\n",
    "    N = int(N)\n",
    "    A = []\n",
    "    B = []\n",
    "    for i in range(0,N):\n",
    "        A.append(input())\n",
    "        A[i] = A[i].split()\n",
    "        A[i] = [complex(k) for k in A[i]]     \n",
    "    B=input().split()\n",
    "    B=[complex(k) for k in B]\n",
    "    lnreq_sol(A,B)\n",
    "    n=0\n",
    "    for i in range(0,N):\n",
    "        if len(A[i]) != len(A[0]):    \n",
    "            n+=1\n",
    "            break\n",
    "    if len(B) != len(A[0]) :\n",
    "        print(\"The length of B matrix should be equal to length of each row in matrix\")\n",
    "    else:\n",
    "        if n==0:\n",
    "            lnreq_sol(A,B)\n",
    "            print(A)\n",
    "            print(\"The solution to the system of linear equation is:\")\n",
    "            print(B)\n",
    "            \n",
    "        else:\n",
    "            print(\"The length of each row should be same \") \n",
    "except ValueError:\n",
    "    print(\"The input should contain only string with numbers and spaces only\") \n",
    "%timeit"
   ]
  },
  {
   "attachments": {},
   "cell_type": "markdown",
   "id": "2fa0302e",
   "metadata": {},
   "source": [
    "## Problems with Gaussian elimination\n",
    "\n",
    "There are several obvious problems with the method outlined here.  These include:\n",
    "\n",
    "- Performance - Python lists are not the most efficient way to store matrices\n",
    "- Zeros: the simple example does not consider a scenario where one of the values on the diagonal may be 0.  Then some shuffling of rows is required.\n",
    "- Numerical stability: there are several *normalization* steps involved, where it is quite possible for the values to blow up out of control if not managed properly.  Usually some kind of pivoting techniques are used to get around these issues."
   ]
  },
  {
   "cell_type": "code",
   "execution_count": null,
   "id": "767caa5c",
   "metadata": {},
   "outputs": [],
   "source": [
    "import math\n",
    "FILENAME=input(\"Enter the filename:\")\n",
    "text_file = open(FILENAME, \"r\")\n",
    "#read whole file to a string\n",
    "data = text_file.read()\n",
    "\n",
    "#close file\n",
    "text_file.close()\n",
    "data=data.splitlines()\n",
    "print(data)\n",
    "A = []\n",
    "B = []\n",
    "C = []\n",
    "K =[]\n",
    "n = 0\n",
    "w=0\n",
    "m=0\n",
    "for j in range(len(data)):\n",
    "    K.append(data[j])\n",
    "    K[j]=K[j].split()\n",
    "    if K[j][0] != \".circuit\" and K[j][0] != \".end\" and K[j][0] != \".ac\" :\n",
    "        if K[j][1] == \"GND\":\n",
    "            if n<float(K[j][2]): n = float(K[j][2])\n",
    "        elif K[j][2] == \"GND\":\n",
    "            if n<float(K[j][1]) : n = float(K[j][1]) \n",
    "        elif K[j][1] != \"GND\" and K[j][2] != \"GND\":\n",
    "            if n<max(float(K[j][1]),float(K[j][2])): n= max(float(K[j][1]),float(K[j][2]))\n",
    "    if K[j][0][0] == \"V\":\n",
    "        m=m+1\n",
    "    elif K[j][0] == \".ac\":\n",
    "        w = float(K[j][2])\n",
    "n = int(n)\n",
    "print(m)\n",
    "print(n)\n",
    "l = m+n\n",
    "print(int(l))\n",
    "print(f'The order of matrix is of {l} X {l}')\n",
    "A=[[complex(0) for _ in range(int(l))]for _ in range(int(l))]\n",
    "B=[complex(0) for _ in range(int(l))]\n",
    "for i in range(len(data)):\n",
    "    data[i]=data[i].split()\n",
    "    print(data[i]) \n",
    "    if data[i][0][0] == \"R\" :\n",
    "        if data[i][1] == \"GND\":\n",
    "            A[int(data[i][2])-1][int(data[i][2])-1] += 1/ complex(data[i][3])\n",
    "        elif data[i][2] == \"GND\":\n",
    "            A[int(data[i][1])-1][int(data[i][1])-1] += 1/ complex(data[i][3])\n",
    "        else:\n",
    "            A[int(data[i][1])-1][int(data[i][1])-1] += 1/ complex(data[i][3])\n",
    "            A[int(data[i][2])-1][int(data[i][2])-1] += 1/ complex(data[i][3])\n",
    "            A[int(data[i][1])-1][int(data[i][2])-1] += -1/ complex(data[i][3])\n",
    "            A[int(data[i][2])-1][int(data[i][1])-1] += -1/ complex(data[i][3])\n",
    "            \n",
    "    if data[i][0][0] == \"C\" :\n",
    "        if data[i][1] == \"GND\":\n",
    "            A[int(data[i][2])-1][int(data[i][2])-1] += (complex(data[i][3])*w)*1j\n",
    "        elif data[i][2] == \"GND\":\n",
    "                A[int(data[i][1])-1][int(data[i][1])-1] += (complex(data[i][3])*w)*1j\n",
    "        else:\n",
    "            A[int(data[i][1])-1][int(data[i][1])-1] += (complex(data[i][3])*w)*1j\n",
    "            A[int(data[i][2])-1][int(data[i][2])-1] += (complex(data[i][3])*w)*1j\n",
    "            A[int(data[i][1])-1][int(data[i][2])-1] += -(complex(data[i][3])*w)*1j\n",
    "            A[int(data[i][2])-1][int(data[i][1])-1] += -(complex(data[i][3])*w)*1j  \n",
    "            \n",
    "    if data[i][0][0] == \"L\" :\n",
    "        if data[i][1] == \"GND\":\n",
    "            A[int(data[i][2])-1][int(data[i][2])-1] += -1j/complex(data[i][3])*w\n",
    "        elif data[i][2] == \"GND\":\n",
    "            A[int(data[i][1])-1][int(data[i][1])-1] += -1j/complex(data[i][3])*w\n",
    "        else:\n",
    "            A[int(data[i][1])-1][int(data[i][1])-1] += -1j/complex(data[i][3])*w\n",
    "            A[int(data[i][2])-1][int(data[i][2])-1] += -1j/complex(data[i][3])*w\n",
    "            A[int(data[i][1])-1][int(data[i][2])-1] += 1j/complex(data[i][3])*w\n",
    "            A[int(data[i][2])-1][int(data[i][1])-1] += 1j/complex(data[i][3])*w     \n",
    "            \n",
    "    if data[i][0][0] == \"I\" :\n",
    "        if data[i][1] == \"GND\":\n",
    "            if data[i][3]== \"dc\":\n",
    "                B[int(data[i][2])-1] +=  complex(data[i][4])\n",
    "            else:\n",
    "                B[int(data[i][2])-1] +=  complex(data[i][4])*complex(math.cos(float(data[i][5])),math.sin(float(data[i][5])))\n",
    "        elif data[i][2]== \"GND\":  \n",
    "            if data[i][3]== \"dc\":\n",
    "                B[int(data[i][1])-1] += -1*complex(data[i][4])\n",
    "            else:\n",
    "                B[int(data[i][1])-1] +=  -1*complex(data[i][4])*complex(math.cos(float(data[i][5])),math.sin(float(data[i][5])))         \n",
    "        else:\n",
    "            if data[i][3]== \"dc\":\n",
    "                B[int(data[i][1])-1] +=  -1*complex(data[i][4])\n",
    "                B[int(data[i][2])-1] +=  complex(data[i][4])\n",
    "            else:\n",
    "                B[int(data[i][1])-1] +=  -1*complex(data[i][4])*complex(math.cos(float(data[i][5])),math.sin(float(data[i][5]))) \n",
    "                B[int(data[i][2])-1] +=  complex(data[i][4])*complex(math.cos(float(data[i][5])),math.sin(float(data[i][5])))  \n",
    "                        \n",
    "    if data[i][0][0] == \"V\" :\n",
    "        n+=1 \n",
    "        if data[i][1] == \"GND\":\n",
    "            A[n-1][int(data[i][2])-1] += 1\n",
    "            A[int(data[i][2])-1][n-1] += 1\n",
    "            if data[i][3]== \"dc\":\n",
    "                B[n-1] +=  complex(data[i][4])\n",
    "            else:\n",
    "                B[n-1] +=  complex(data[i][4])*complex(math.cos(float(data[i][5])),math.sin(float(data[i][5])))            \n",
    "        elif data[i][2] == \"GND\":\n",
    "            A[n-1][int(data[i][1])-1] = -1\n",
    "            A[int(data[i][1])-1][n-1] = -1\n",
    "            if data[i][3]== \"dc\":\n",
    "                B[n-1] +=  complex(data[i][4])\n",
    "            else:\n",
    "                B[n-1] +=  complex(data[i][4])*complex(math.cos(float(data[i][5])),math.sin(float(data[i][5])))                \n",
    "        else:\n",
    "            A[n-1][int(data[i][1])-1] = -1\n",
    "            A[n-1][int(data[i][2])-1] = 1\n",
    "            A[int(data[i][1])-1][n-1] = -1\n",
    "            A[int(data[i][2])-1][n-1] = 1\n",
    "            if data[i][3]== \"dc\":\n",
    "                B[n-1] +=  complex(data[i][4])\n",
    "            else:\n",
    "                B[n-1] +=  complex(data[i][4])*complex(math.cos(float(data[i][5])),math.sin(float(data[i][5])))  \n",
    "\n",
    "N = l        \n",
    "lnreq_sol(A,B)\n",
    "print(A)\n",
    "print(\"solution Matrix of MNA is:\")\n",
    "print(B)\n"
   ]
  },
  {
   "attachments": {},
   "cell_type": "markdown",
   "id": "290fc493",
   "metadata": {},
   "source": [
    "# netlist solver\n",
    "- We took the imformation of circuit by giving the file directory or name.\n",
    "- first for loop calculates the no of voltage sources and no of node which indirect gives size of matrix\n",
    "- In second circuit we go by line by line arrange the element value to their respective places in matrix A and independent sources are placed in respective positions in matrix B.\n",
    "- We call matrix solver at end  to solve the A and B by function `lnreq_sol(A,B)` by giving A,B and N(size of matrix)\n",
    "- for capacitor and inductor it takes admitance(jwc and 1/jwl respectively).\n",
    "-For .ac line it takes the frequency of circuit for circuit having Ac components."
   ]
  },
  {
   "attachments": {},
   "cell_type": "markdown",
   "id": "33e59f9d",
   "metadata": {},
   "source": [
    "# Linear equation solver \n",
    "- This programme attempts to use lower triangular form to solve the system of linear equations represented by square matrix A and vector B. The matrix is   first converted to upper triangular form by calling the uppertriangle function, and then it is converted to lower triangular form by calling the lowertriangle function. \n",
    "- The matrix A and vector B are first entered into the code, followed by the number of rows N. There should only be integers and spaces in the input. The input matrix A is stored as a 2D list of complex numbers, and the vector B is stored as a list of complex numbers.\n",
    "- At first i took first row of matrix A and and performs the Gaussian elimination process. to get the fimal solution i took the last row of gaussian matrix and perform the colume operation with the diagonal element. after all colume operation I took last second row diagonal element and porforming the same operation. we end the process till we get first row diagonal element and the produced matrix is solution matrix.\n"
   ]
  },
  {
   "attachments": {},
   "cell_type": "markdown",
   "id": "5b45ec84",
   "metadata": {},
   "source": [
    "# Assignment\n",
    "\n",
    "The following are the problems you need to solve for this assignment.  You need to submit your code (either as standalone Python script or a Python notebook), a PDF document explaining your solution (either generated from the notebook or a separate LaTeX document), and any supporting files you may have (such as circuit netlists you used for testing your code).\n",
    "\n",
    "- Write a function to find the factorial of N (N being an input) and find the time taken to compute it.  This will obviously depend on where you run the code and which approach you use to implement the factorial.  Explain your observations briefly.\n",
    "- Write a linear equation solver that will take in matrices $A$ and $b$ as inputs, and return the vector $x$ that solves the equation $Ax=b$.  Your function should catch errors in the inputs and return suitable error messages for different possible problems.\n",
    "  - Time your solver to solve a random $10\\times 10$ system of equations.  Compare the time taken against the `numpy.linalg.solve` function for the same inputs.\n",
    "- Given a circuit netlist in the form described above, read it in from a file, construct the appropriate matrices, and use the solver you have written above to obtain the voltages and currents in the circuit.  If you find AC circuits hard to handle, first do this for pure DC circuits, but you should be able to handle both voltage and current sources.\n",
    "\n",
    "## Bonus assignments\n",
    "\n",
    "- (Small bonus): after reading in the netlist, allow some or all sources and impedances to be controlled interactively - either using widgets or other mechanisms.  On each change you should recompute the currents and voltages and display them.\n",
    "- (Large bonus): make a solver that can do real-time transient simulations of a SPICE netlist and update the currents and voltages dynamically.  They should also be plotted as a function of time and react to changes.  This is something along the lines of https://www.falstad.com/circuit/.  Ideally you should be able to do a real-time demo of some experiments you might conduct as part of a basic electronics lab, and simulate the behaviour of an oscilloscope and signal generator."
   ]
  }
 ],
 "metadata": {
  "kernelspec": {
   "display_name": "Python 3",
   "language": "python",
   "name": "python3"
  },
  "language_info": {
   "codemirror_mode": {
    "name": "ipython",
    "version": 3
   },
   "file_extension": ".py",
   "mimetype": "text/x-python",
   "name": "python",
   "nbconvert_exporter": "python",
   "pygments_lexer": "ipython3",
   "version": "3.10.9"
  },
  "vscode": {
   "interpreter": {
    "hash": "e795034f7e8edb892524ba743e425899805ea3c85e7558acbf2f3bd40475e410"
   }
  }
 },
 "nbformat": 4,
 "nbformat_minor": 5
}
