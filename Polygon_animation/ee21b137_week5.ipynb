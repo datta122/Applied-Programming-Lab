{
 "cells": [
  {
   "cell_type": "code",
   "execution_count": null,
   "id": "3d67b840-0fbe-457e-b82e-2fc911bd4c2c",
   "metadata": {},
   "outputs": [],
   "source": [
    " # Magic command below to enable interactivity in the JupyterLab interface\n",
    "%matplotlib ipympl\n",
    "# Some basic imports that are useful\n",
    "import numpy as np\n",
    "import matplotlib.pyplot as plt\n",
    "from matplotlib.animation import FuncAnimation\n",
    "fig, ax = plt.subplots()\n",
    "xdata, ydata = [], []\n",
    "ln, = ax.plot([], [], 'r')"
   ]
  },
  {
   "cell_type": "code",
   "execution_count": null,
   "id": "7ea55591-167b-463d-ad5f-d8a15da3cc1d",
   "metadata": {},
   "outputs": [],
   "source": [
    "def init():\n",
    "    ax.set_xlim(-1.2, 1.2)\n",
    "    ax.set_ylim(-1.2, 1.2)\n",
    "    return ln,\n",
    "def update(frame):\n",
    "    if frame <= 1:xdata, ydata = morph(xs, ys, xt, yt, frame)\n",
    "    elif frame <= 2:xdata, ydata = morph(xp, yp, xs, ys, frame-1)\n",
    "    elif frame <= 3:xdata, ydata = morph(xh, yh, xp, yp, frame-2)\n",
    "    elif frame <= 4:xdata, ydata = morph(xhp, yhp, xh, yh, frame-3)\n",
    "    elif frame <= 5:xdata, ydata = morph(xo, yo, xhp, yhp, frame-4)\n",
    "    elif frame <= 6:xdata, ydata = morph(xhp, yhp, xo, yo, frame-5)\n",
    "    elif frame <= 7:xdata, ydata = morph(xh, yh, xhp, yhp, frame-6)\n",
    "    elif frame <= 8:xdata, ydata = morph(xp, yp, xh, yh, frame-7)\n",
    "    elif frame <= 9:xdata, ydata = morph(xs, ys, xp, yp, frame-8)\n",
    "    elif frame <= 10:xdata, ydata = morph(xt, yt, xs, ys, frame-9)\n",
    "    \n",
    "    ln.set_data(xdata, ydata)\n",
    "    return ln,\n",
    "def morph(x1, y1, x2, y2, alpha):\n",
    "    xm = alpha * x1 + (1-alpha) * x2\n",
    "    ym = alpha * y1 + (1-alpha) * y2\n",
    "    return xm, ym"
   ]
  },
  {
   "cell_type": "code",
   "execution_count": null,
   "id": "e1105729-d85f-4a19-a23f-a9c9c92cab9a",
   "metadata": {},
   "outputs": [],
   "source": [
    "def triangle(t):\n",
    "    l1 = int(len(t) / 4)\n",
    "    ts = np.linspace(-0.5, 1, l1)\n",
    "    ty = np.linspace(0,np.sqrt(3)/2,l1)\n",
    "    ty2 = (1-ts)/np.sqrt(3) \n",
    "    xt = np.concatenate([-0.5*np.ones(l1),ts,ts[::-1], -0.5*np.ones(l1)])\n",
    "    yt = np.concatenate([ty,ty2,-ty2[::-1],-ty[::-1]])\n",
    "    return xt,yt\n",
    "def square(t):\n",
    "    xs = t\n",
    "    ys = np.concatenate([1-np.absolute(xs[:100]),-1+np.absolute(xs[100:])])\n",
    "    return xs,ys\n",
    "def pentagon(t):\n",
    "    tp = np.linspace(-0.68, 1, 67)\n",
    "    tp0 = np.linspace(0,+0.514 ,33)\n",
    "    xp = np.concatenate([-0.68*np.ones(33),tp,tp[::-1],-0.68*np.ones(33)])\n",
    "    ty1 = 0.95+0.373*(tp[:46]-0.4567)\n",
    "    ty2 = -1.85*(tp[46:]-1)\n",
    "    yp = np.concatenate([tp0,ty1,ty2,-ty2[::-1],-ty1[::-1],-tp0[::-1]])\n",
    "    return xp,yp\n",
    "def hexagon(t):\n",
    "    xh = t\n",
    "    ty = np.sqrt(3)*(xh[:25]+1)\n",
    "    yh = np.concatenate([ty,np.sqrt(3)/2*np.ones(50),ty[::-1],-ty,-np.sqrt(3)/2*np.ones(50),-ty[::-1]])\n",
    "    return xh,yh\n",
    "def heptagon(t):\n",
    "    l3 = int(len(t) / 2)\n",
    "    th = np.linspace(-0.68, 1, 75)\n",
    "    th0 = np.linspace(0,+0.434 ,25)\n",
    "    th1 = th[::-1] \n",
    "    xhp  = np.concatenate([-0.901*np.ones(25),th,th[::-1],-0.901*np.ones(25)])\n",
    "    theta = 3.14/7\n",
    "    ty1 = np.sin(theta)+(1/np.tan(2*theta))*(th[:21]+np.cos(theta))\n",
    "    ty2 = np.sin(2*theta)-np.tan(theta/2)*(th[21:58]-np.cos(2*theta))\n",
    "    ty3 = (-1/np.tan(theta))*(th[58:] - 1)\n",
    "    yhp = np.concatenate([th0,ty1,ty2,ty3,-ty3[::-1],-ty2[::-1],-ty1[::-1],-th0[::-1]])\n",
    "    return xhp,yhp\n",
    "def octagon(t):\n",
    "    theta = 3.14/4\n",
    "    xo = t\n",
    "    ty1 = (np.sin(theta)/(1-np.cos(theta)))*(xo[:15]+1)\n",
    "    ty2 = 1 + (1-np.sin(theta))/np.cos(theta)*(xo[15:50])\n",
    "    yo = np.concatenate([ty1,ty2,ty2[::-1],ty1[::-1],-ty1,-ty2,-ty2[::-1],-ty1[::-1]])\n",
    "    return xo,yo"
   ]
  },
  {
   "cell_type": "code",
   "execution_count": null,
   "id": "9fcd385e-9b1c-4cbd-98ee-77f6e97a6536",
   "metadata": {},
   "outputs": [],
   "source": [
    "t = np.concatenate([np.linspace(-1,1,100),np.linspace(1,-1,100)])\n",
    "if len(t) % 4 != 0:\n",
    "    raise BaseException(\"Number of points should be multiple of 4...\")\n",
    "xt,yt = triangle(t)\n",
    "xs,ys = square(t)\n",
    "xp,yp = pentagon(t)\n",
    "xh,yh = hexagon(t)\n",
    "xhp,yhp = heptagon(t)\n",
    "xo,yo = octagon(t)\n",
    "ani = FuncAnimation(fig, update, frames=np.linspace(0, 10, 400),\n",
    "init_func=init, blit=True, interval=15, repeat=True)\n",
    "plt.show()"
   ]
  },
  {
   "cell_type": "markdown",
   "id": "9fb1497b-2d29-41b5-8765-3e152ac91702",
   "metadata": {},
   "source": [
    "## Explanation \n",
    "- Here i defined all 6 polygons as function differently.\n",
    "- For all the polygon function i took 200 points.\n",
    "- Triangle function is defined by taking x from -0.5 to 1. and constructing y values from left to right with corresponding x-values.\n",
    "- similarly all the polygons are defined by getting y values from by deriving a function in terms of x.\n",
    "- Here for all the polygons i got a constant for some x-values and straight line for another x-values.\n",
    "- THose straight lines equation are provided manually by doing geometry.\n",
    "- With the help of `FuncAnimation()` we can generate the frames and go to a update changes the x and y values such that these are in between the two shape then it will plot it.\n",
    "- In morph function is used to generate x and y intermidate to provided x and y values. \n",
    "- Interval is the time for one frame.it will be in milliseconds.\n",
    "\n"
   ]
  },
  {
   "cell_type": "code",
   "execution_count": null,
   "id": "e3b2b65b-8052-40cb-bcf9-61eb0df8cdd6",
   "metadata": {},
   "outputs": [],
   "source": []
  }
 ],
 "metadata": {
  "kernelspec": {
   "display_name": "Python 3 (ipykernel)",
   "language": "python",
   "name": "python3"
  },
  "language_info": {
   "codemirror_mode": {
    "name": "ipython",
    "version": 3
   },
   "file_extension": ".py",
   "mimetype": "text/x-python",
   "name": "python",
   "nbconvert_exporter": "python",
   "pygments_lexer": "ipython3",
   "version": "3.9.2"
  }
 },
 "nbformat": 4,
 "nbformat_minor": 5
}
